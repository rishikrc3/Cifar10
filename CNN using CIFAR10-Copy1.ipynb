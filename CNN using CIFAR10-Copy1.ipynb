{
 "cells": [
  {
   "cell_type": "code",
   "execution_count": 1,
   "id": "7e4b4578",
   "metadata": {},
   "outputs": [],
   "source": [
    "import tensorflow as tf\n",
    "from tensorflow.keras import datasets, layers, models\n",
    "import matplotlib.pyplot as plt\n",
    "import numpy as np"
   ]
  },
  {
   "cell_type": "code",
   "execution_count": 2,
   "id": "b7925a24",
   "metadata": {},
   "outputs": [],
   "source": [
    "(X_train,y_train),(X_test,y_test)=datasets.cifar10.load_data()"
   ]
  },
  {
   "cell_type": "code",
   "execution_count": 3,
   "id": "06bdd403",
   "metadata": {},
   "outputs": [
    {
     "data": {
      "text/plain": [
       "array([6, 9, 9, 4, 1], dtype=uint8)"
      ]
     },
     "execution_count": 3,
     "metadata": {},
     "output_type": "execute_result"
    }
   ],
   "source": [
    "X_test.shape\n",
    "#Reshaping both the train and test is necessary so to overlap with the labels and name them correctly \n",
    "y_train=y_train.reshape(-1,)\n",
    "y_train[:5]"
   ]
  },
  {
   "cell_type": "code",
   "execution_count": 4,
   "id": "e0f1fa9d",
   "metadata": {},
   "outputs": [
    {
     "data": {
      "text/plain": [
       "'truck'"
      ]
     },
     "execution_count": 4,
     "metadata": {},
     "output_type": "execute_result"
    }
   ],
   "source": [
    "#This is just for the lables \n",
    "classes=[\"airplane\",\"automobile\",\"bird\",\"dog\",\"cat\",\"deer\",\"frog\",\"horse\",\"ship\",\"truck\"]\n"
   ]
  },
  {
   "cell_type": "code",
   "execution_count": 5,
   "id": "dc87819d",
   "metadata": {},
   "outputs": [],
   "source": [
    "def plot_sample(X,y,index):\n",
    "    plt.figure(figsize=(15,2))\n",
    "    plt.imshow(X[index])\n",
    "    plt.xlabel(classes[y[index]])"
   ]
  },
  {
   "cell_type": "code",
   "execution_count": 6,
   "id": "2931f0e6",
   "metadata": {},
   "outputs": [
    {
     "data": {
      "image/png": "[encoded data removed]",
      "text/plain": [
       "<Figure size 1080x144 with 1 Axes>"
      ]
     },
     "metadata": {
      "needs_background": "light"
     },
     "output_type": "display_data"
    }
   ],
   "source": [
    "plot_sample(X_train,y_train,1)"
   ]
  },
  {
   "cell_type": "code",
   "execution_count": 7,
   "id": "a425f857",
   "metadata": {},
   "outputs": [],
   "source": [
    "#This is done in order to get them in between 0 and 1 \n",
    "X_train = X_train/255\n",
    "X_test=X_test/255"
   ]
  },
  {
   "cell_type": "code",
   "execution_count": 33,
   "id": "8916943a",
   "metadata": {},
   "outputs": [],
   "source": [
    " cnn = models.Sequential([\n",
    "     \n",
    "    #cnn\n",
    "    layers.Conv2D(filters=32, kernel_size=(3,3) , activation = 'relu', input_shape = (32,32,3)),\n",
    "    layers.MaxPooling2D((2,2)),\n",
    "    \n",
    "     \n",
    "    layers.Conv2D(filters=32, kernel_size=(3,3) , activation = 'relu', input_shape = (32,32,3)),\n",
    "    layers.MaxPooling2D((2,2)),\n",
    "    \n",
    "     \n",
    "    layers.Conv2D(filters=64, kernel_size=(3,3) , activation = 'relu', input_shape = (32,32,3)),\n",
    "    layers.MaxPooling2D((2,2)),\n",
    "    \n",
    "  \n",
    "    #dense \n",
    "    layers.Flatten(),\n",
    "    layers.Dense(1000, activation='relu'),\n",
    "    layers.Dense(10, activation='softmax')\n",
    "])\n"
   ]
  },
  {
   "cell_type": "code",
   "execution_count": 34,
   "id": "5086dd33",
   "metadata": {},
   "outputs": [],
   "source": [
    "cnn.compile(optimizer='adam', \n",
    "            loss='sparse_categorical_crossentropy', \n",
    "            metrics=['accuracy'])"
   ]
  },
  {
   "cell_type": "code",
   "execution_count": 35,
   "id": "65835e32",
   "metadata": {},
   "outputs": [
    {
     "name": "stdout",
     "output_type": "stream",
     "text": [
      "Epoch 1/10\n",
      "1563/1563 [==============================] - 21s 14ms/step - loss: 1.5246 - accuracy: 0.4413\n",
      "Epoch 2/10\n",
      "1563/1563 [==============================] - 21s 13ms/step - loss: 1.1836 - accuracy: 0.5778\n",
      "Epoch 3/10\n",
      "1563/1563 [==============================] - 22s 14ms/step - loss: 1.0276 - accuracy: 0.6377\n",
      "Epoch 4/10\n",
      "1563/1563 [==============================] - 22s 14ms/step - loss: 0.9278 - accuracy: 0.6723\n",
      "Epoch 5/10\n",
      "1563/1563 [==============================] - 21s 13ms/step - loss: 0.8410 - accuracy: 0.7055\n",
      "Epoch 6/10\n",
      "1563/1563 [==============================] - 20s 13ms/step - loss: 0.7687 - accuracy: 0.7310\n",
      "Epoch 7/10\n",
      "1563/1563 [==============================] - 20s 13ms/step - loss: 0.7082 - accuracy: 0.7515\n",
      "Epoch 8/10\n",
      "1563/1563 [==============================] - 20s 13ms/step - loss: 0.6435 - accuracy: 0.7720\n",
      "Epoch 9/10\n",
      "1563/1563 [==============================] - 21s 13ms/step - loss: 0.5847 - accuracy: 0.7946\n",
      "Epoch 10/10\n",
      "1563/1563 [==============================] - 21s 13ms/step - loss: 0.5170 - accuracy: 0.8172\n"
     ]
    },
    {
     "data": {
      "text/plain": [
       "<keras.callbacks.History at 0x1cbb51f6910>"
      ]
     },
     "execution_count": 35,
     "metadata": {},
     "output_type": "execute_result"
    }
   ],
   "source": [
    "cnn.fit(X_train,y_train, epochs=10)"
   ]
  },
  {
   "cell_type": "code",
   "execution_count": 36,
   "id": "08fa537b",
   "metadata": {},
   "outputs": [
    {
     "name": "stdout",
     "output_type": "stream",
     "text": [
      "313/313 [==============================] - 1s 3ms/step - loss: 0.9641 - accuracy: 0.6952\n"
     ]
    },
    {
     "data": {
      "text/plain": [
       "[0.9640650153160095, 0.6952000260353088]"
      ]
     },
     "execution_count": 36,
     "metadata": {},
     "output_type": "execute_result"
    }
   ],
   "source": [
    "cnn.evaluate(X_test,y_test)"
   ]
  },
  {
   "cell_type": "code",
   "execution_count": 37,
   "id": "b94e37c1",
   "metadata": {},
   "outputs": [],
   "source": [
    "y_test = y_test.reshape(-1,)"
   ]
  },
  {
   "cell_type": "code",
   "execution_count": 38,
   "id": "7f82a0b3",
   "metadata": {},
   "outputs": [
    {
     "data": {
      "image/png": "[encoded data removed]",
      "text/plain": [
       "<Figure size 1080x144 with 1 Axes>"
      ]
     },
     "metadata": {
      "needs_background": "light"
     },
     "output_type": "display_data"
    }
   ],
   "source": [
    "plot_sample(X_test,y_test,1)"
   ]
  },
  {
   "cell_type": "code",
   "execution_count": 39,
   "id": "6f1716f8",
   "metadata": {},
   "outputs": [
    {
     "data": {
      "text/plain": [
       "array([[2.80152279e-04, 2.26319935e-02, 6.18170761e-02, 8.23530793e-01,\n",
       "        5.74944534e-05, 5.36941644e-03, 1.01883654e-02, 1.55091716e-03,\n",
       "        7.32262656e-02, 1.34748453e-03],\n",
       "       [2.98677420e-04, 5.41700050e-02, 1.04663644e-09, 1.50569321e-10,\n",
       "        7.29162499e-13, 2.23770048e-12, 2.51410337e-10, 6.47600951e-13,\n",
       "        9.45442498e-01, 8.87876377e-05],\n",
       "       [2.91587953e-02, 2.18216121e-01, 2.51703034e-03, 1.56052294e-03,\n",
       "        4.41120035e-04, 7.58468057e-04, 3.03209468e-04, 9.92026646e-04,\n",
       "        7.20891416e-01, 2.51613706e-02],\n",
       "       [2.76281238e-01, 3.35465185e-03, 3.89060527e-02, 3.52469552e-03,\n",
       "        2.59744731e-04, 9.40934915e-05, 4.88820478e-05, 2.88651989e-07,\n",
       "        6.77143455e-01, 3.86931380e-04],\n",
       "       [4.27607200e-10, 1.08519686e-07, 2.15878215e-04, 4.86789155e-04,\n",
       "        9.90148544e-01, 9.62677659e-05, 9.05225240e-03, 1.82739427e-07,\n",
       "        7.27481464e-10, 2.80142043e-09]], dtype=float32)"
      ]
     },
     "execution_count": 39,
     "metadata": {},
     "output_type": "execute_result"
    }
   ],
   "source": [
    "y_pred= cnn.predict(X_test)\n",
    "y_pred[:5]"
   ]
  },
  {
   "cell_type": "code",
   "execution_count": 40,
   "id": "67182ec1",
   "metadata": {},
   "outputs": [
    {
     "data": {
      "text/plain": [
       "[3, 8, 8, 8, 4]"
      ]
     },
     "execution_count": 40,
     "metadata": {},
     "output_type": "execute_result"
    }
   ],
   "source": [
    "y_classes = [np.argmax(element) for element in y_pred]\n",
    "y_classes[:5]"
   ]
  },
  {
   "cell_type": "code",
   "execution_count": 41,
   "id": "9c734e3d",
   "metadata": {},
   "outputs": [
    {
     "data": {
      "text/plain": [
       "array([3, 8, 8, 0, 6], dtype=uint8)"
      ]
     },
     "execution_count": 41,
     "metadata": {},
     "output_type": "execute_result"
    }
   ],
   "source": [
    "y_test[:5]"
   ]
  },
  {
   "cell_type": "code",
   "execution_count": 44,
   "id": "895c8282",
   "metadata": {},
   "outputs": [
    {
     "data": {
      "image/png": "[encoded data removed]",
      "text/plain": [
       "<Figure size 1080x144 with 1 Axes>"
      ]
     },
     "metadata": {
      "needs_background": "light"
     },
     "output_type": "display_data"
    }
   ],
   "source": [
    "plot_sample(X_test, y_test,7)"
   ]
  },
  {
   "cell_type": "code",
   "execution_count": 45,
   "id": "5d48628c",
   "metadata": {},
   "outputs": [
    {
     "data": {
      "text/plain": [
       "'frog'"
      ]
     },
     "execution_count": 45,
     "metadata": {},
     "output_type": "execute_result"
    }
   ],
   "source": [
    "classes[y_classes[7]]"
   ]
  },
  {
   "cell_type": "code",
   "execution_count": null,
   "id": "7abf43f8",
   "metadata": {},
   "outputs": [],
   "source": []
  }
 ],
 "metadata": {
  "kernelspec": {
   "display_name": "Python 3 (ipykernel)",
   "language": "python",
   "name": "python3"
  },
  "language_info": {
   "codemirror_mode": {
    "name": "ipython",
    "version": 3
   },
   "file_extension": ".py",
   "mimetype": "text/x-python",
   "name": "python",
   "nbconvert_exporter": "python",
   "pygments_lexer": "ipython3",
   "version": "3.9.5"
  }
 },
 "nbformat": 4,
 "nbformat_minor": 5
}
